{
  "nbformat": 4,
  "nbformat_minor": 0,
  "metadata": {
    "colab": {
      "provenance": [],
      "authorship_tag": "ABX9TyN6r7fhcf3jfGULRYLcS+EH",
      "include_colab_link": true
    },
    "kernelspec": {
      "name": "python3",
      "display_name": "Python 3"
    },
    "language_info": {
      "name": "python"
    }
  },
  "cells": [
    {
      "cell_type": "markdown",
      "metadata": {
        "id": "view-in-github",
        "colab_type": "text"
      },
      "source": [
        "<a href=\"https://colab.research.google.com/github/Nasar1418/Machine-Learning/blob/main/Colab%20file/Numpy_Basics.ipynb\" target=\"_parent\"><img src=\"https://colab.research.google.com/assets/colab-badge.svg\" alt=\"Open In Colab\"/></a>"
      ]
    },
    {
      "cell_type": "code",
      "execution_count": null,
      "metadata": {
        "id": "NBE9i4s9PvEr"
      },
      "outputs": [],
      "source": [
        "import numpy as np"
      ]
    },
    {
      "cell_type": "code",
      "source": [
        "from time import process_time"
      ],
      "metadata": {
        "id": "JmD1QWaPQHQ6"
      },
      "execution_count": null,
      "outputs": []
    },
    {
      "cell_type": "code",
      "source": [
        "list=[i for i in range(10000)]\n",
        "# Start the stopwatch / counter\n",
        "start_time=process_time()\n",
        "print(start_time)\n",
        "list=[i+5 for i in list]\n",
        "# Stop the stopwatch / counter\n",
        "end_time=process_time()\n",
        "print(end_time)\n",
        "time_taken1=end_time-start_time\n",
        "print(\"Time taken to add 5 to list elements\",time_taken1)"
      ],
      "metadata": {
        "colab": {
          "base_uri": "https://localhost:8080/"
        },
        "id": "-syyE4CHQWPx",
        "outputId": "202cb87a-fe3b-4ea2-88b0-c5f39ec750a9"
      },
      "execution_count": null,
      "outputs": [
        {
          "output_type": "stream",
          "name": "stdout",
          "text": [
            "24.536007078\n",
            "24.537792545\n",
            "Time taken to add 5 to list elements 0.001785466999997709\n"
          ]
        }
      ]
    },
    {
      "cell_type": "code",
      "source": [
        "np_arr=np.array([i for i in range(10000)])\n",
        "start_time=process_time()\n",
        "print(start_time)\n",
        "np_arr+=5;\n",
        "end_time=process_time()\n",
        "print(end_time)\n",
        "time_taken2=end_time-start_time\n",
        "print(\"Time taken to add 5 to list elements\",time_taken2)"
      ],
      "metadata": {
        "colab": {
          "base_uri": "https://localhost:8080/"
        },
        "id": "gdZqfdSjSdgL",
        "outputId": "67619dc4-75af-44c5-dce1-c5d8f842e56c"
      },
      "execution_count": null,
      "outputs": [
        {
          "output_type": "stream",
          "name": "stdout",
          "text": [
            "24.549497471\n",
            "24.549981607\n",
            "Time taken to add 5 to list elements 0.0004841360000007455\n"
          ]
        }
      ]
    },
    {
      "cell_type": "code",
      "source": [
        "if(time_taken1>time_taken2):\n",
        "    print(\"Numpy array is faster\")\n",
        "else:\n",
        "    print(\"List is faster\")"
      ],
      "metadata": {
        "colab": {
          "base_uri": "https://localhost:8080/"
        },
        "id": "tP_mejRjTWzt",
        "outputId": "9df66b01-aa5b-4794-e86e-795daa6babae"
      },
      "execution_count": null,
      "outputs": [
        {
          "output_type": "stream",
          "name": "stdout",
          "text": [
            "Numpy array is faster\n"
          ]
        }
      ]
    },
    {
      "cell_type": "code",
      "source": [
        "# reshaping array\n",
        "arr=np.random.randint(0,20,(2,3))\n",
        "print(arr)"
      ],
      "metadata": {
        "colab": {
          "base_uri": "https://localhost:8080/"
        },
        "id": "on2MWwr0d8tj",
        "outputId": "f6458588-7fb8-48bf-ce39-95525b6a5909"
      },
      "execution_count": null,
      "outputs": [
        {
          "output_type": "stream",
          "name": "stdout",
          "text": [
            "[[11 18 17]\n",
            " [ 0  9 12]]\n"
          ]
        }
      ]
    },
    {
      "cell_type": "code",
      "source": [
        "arr=arr.reshape(1,3);\n",
        "print(arr);"
      ],
      "metadata": {
        "colab": {
          "base_uri": "https://localhost:8080/",
          "height": 158
        },
        "id": "tCu3EXdmeJFs",
        "outputId": "5fde0628-be7f-4622-f955-01373f0d579b"
      },
      "execution_count": null,
      "outputs": [
        {
          "output_type": "error",
          "ename": "ValueError",
          "evalue": "cannot reshape array of size 6 into shape (1,3)",
          "traceback": [
            "\u001b[0;31m---------------------------------------------------------------------------\u001b[0m",
            "\u001b[0;31mValueError\u001b[0m                                Traceback (most recent call last)",
            "\u001b[0;32m<ipython-input-33-4cc10637a2fc>\u001b[0m in \u001b[0;36m<cell line: 0>\u001b[0;34m()\u001b[0m\n\u001b[0;32m----> 1\u001b[0;31m \u001b[0marr\u001b[0m\u001b[0;34m=\u001b[0m\u001b[0marr\u001b[0m\u001b[0;34m.\u001b[0m\u001b[0mreshape\u001b[0m\u001b[0;34m(\u001b[0m\u001b[0;36m1\u001b[0m\u001b[0;34m,\u001b[0m\u001b[0;36m3\u001b[0m\u001b[0;34m)\u001b[0m\u001b[0;34m;\u001b[0m\u001b[0;34m\u001b[0m\u001b[0;34m\u001b[0m\u001b[0m\n\u001b[0m\u001b[1;32m      2\u001b[0m \u001b[0mprint\u001b[0m\u001b[0;34m(\u001b[0m\u001b[0marr\u001b[0m\u001b[0;34m)\u001b[0m\u001b[0;34m;\u001b[0m\u001b[0;34m\u001b[0m\u001b[0;34m\u001b[0m\u001b[0m\n",
            "\u001b[0;31mValueError\u001b[0m: cannot reshape array of size 6 into shape (1,3)"
          ]
        }
      ]
    }
  ]
}