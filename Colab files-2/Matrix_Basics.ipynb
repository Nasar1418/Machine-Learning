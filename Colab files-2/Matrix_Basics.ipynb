{
  "nbformat": 4,
  "nbformat_minor": 0,
  "metadata": {
    "colab": {
      "provenance": [],
      "authorship_tag": "ABX9TyPPgwuE+jCGl3g+r2hura+f",
      "include_colab_link": true
    },
    "kernelspec": {
      "name": "python3",
      "display_name": "Python 3"
    },
    "language_info": {
      "name": "python"
    }
  },
  "cells": [
    {
      "cell_type": "markdown",
      "metadata": {
        "id": "view-in-github",
        "colab_type": "text"
      },
      "source": [
        "<a href=\"https://colab.research.google.com/github/Nasar1418/Machine-Learning/blob/main/Colab%20files-2/Matrix_Basics.ipynb\" target=\"_parent\"><img src=\"https://colab.research.google.com/assets/colab-badge.svg\" alt=\"Open In Colab\"/></a>"
      ]
    },
    {
      "cell_type": "code",
      "execution_count": 1,
      "metadata": {
        "id": "XLDKyWTPpk21"
      },
      "outputs": [],
      "source": [
        "import numpy as np"
      ]
    },
    {
      "cell_type": "code",
      "source": [
        "# Creating a Matrix\n",
        "matrix1=np.asarray([[1,2,3],[4,5,6]])\n",
        "print(matrix1)"
      ],
      "metadata": {
        "colab": {
          "base_uri": "https://localhost:8080/"
        },
        "id": "RQcot6c3B9pN",
        "outputId": "a2435c82-19d4-4253-d741-833c6828826c"
      },
      "execution_count": 3,
      "outputs": [
        {
          "output_type": "stream",
          "name": "stdout",
          "text": [
            "[[1 2 3]\n",
            " [4 5 6]]\n"
          ]
        }
      ]
    },
    {
      "cell_type": "code",
      "source": [
        "matrix2=np.random.rand(3,4)\n",
        "print(matrix2)"
      ],
      "metadata": {
        "colab": {
          "base_uri": "https://localhost:8080/"
        },
        "id": "ez9ouEssCqdc",
        "outputId": "9b260a74-a980-4788-9b56-96d921b12780"
      },
      "execution_count": 5,
      "outputs": [
        {
          "output_type": "stream",
          "name": "stdout",
          "text": [
            "[[0.25196275 0.64551408 0.52731286 0.71420153]\n",
            " [0.62457581 0.41289243 0.63080497 0.94065452]\n",
            " [0.44847562 0.46112999 0.94575004 0.05652119]]\n"
          ]
        }
      ]
    },
    {
      "cell_type": "code",
      "source": [
        "matrix3=np.random.randint(10,50,size=(3,3))\n",
        "print(matrix3)"
      ],
      "metadata": {
        "colab": {
          "base_uri": "https://localhost:8080/"
        },
        "id": "1RwC9hlyCy27",
        "outputId": "89004f76-4e48-44ea-f195-75a341a140b1"
      },
      "execution_count": 7,
      "outputs": [
        {
          "output_type": "stream",
          "name": "stdout",
          "text": [
            "[[17 29 24]\n",
            " [30 18 28]\n",
            " [24 15 31]]\n"
          ]
        }
      ]
    },
    {
      "cell_type": "code",
      "source": [
        "matrix4=np.ones((2,3))\n",
        "print(matrix4)"
      ],
      "metadata": {
        "colab": {
          "base_uri": "https://localhost:8080/"
        },
        "id": "CR3fxABLDQ65",
        "outputId": "6967d5cb-9b3b-470b-e556-3cd8172796f0"
      },
      "execution_count": 9,
      "outputs": [
        {
          "output_type": "stream",
          "name": "stdout",
          "text": [
            "[[1. 1. 1.]\n",
            " [1. 1. 1.]]\n"
          ]
        }
      ]
    },
    {
      "cell_type": "code",
      "source": [
        "matrix5=np.ones((2,3),dtype=int)\n",
        "print(matrix5)"
      ],
      "metadata": {
        "colab": {
          "base_uri": "https://localhost:8080/"
        },
        "id": "bN36KrbHDa3T",
        "outputId": "f2f3d52d-13b3-4117-caaa-724b146c785b"
      },
      "execution_count": 11,
      "outputs": [
        {
          "output_type": "stream",
          "name": "stdout",
          "text": [
            "[[1 1 1]\n",
            " [1 1 1]]\n"
          ]
        }
      ]
    },
    {
      "cell_type": "code",
      "source": [
        "matrix6=np.zeros((3,4),dtype=int)\n",
        "print(matrix6)"
      ],
      "metadata": {
        "colab": {
          "base_uri": "https://localhost:8080/"
        },
        "id": "wKsf4yVyDf88",
        "outputId": "94d0ff10-4ff4-43cc-aff1-72cf79b5fcb0"
      },
      "execution_count": 13,
      "outputs": [
        {
          "output_type": "stream",
          "name": "stdout",
          "text": [
            "[[0 0 0 0]\n",
            " [0 0 0 0]\n",
            " [0 0 0 0]]\n"
          ]
        }
      ]
    },
    {
      "cell_type": "code",
      "source": [
        "matrix7=np.eye(3,dtype=int)\n",
        "print(matrix7)"
      ],
      "metadata": {
        "colab": {
          "base_uri": "https://localhost:8080/"
        },
        "id": "Z6AGMnqxDxwr",
        "outputId": "62b9d6f8-aaba-47b4-b646-e96d8c09ad9e"
      },
      "execution_count": 15,
      "outputs": [
        {
          "output_type": "stream",
          "name": "stdout",
          "text": [
            "[[1 0 0]\n",
            " [0 1 0]\n",
            " [0 0 1]]\n"
          ]
        }
      ]
    },
    {
      "cell_type": "code",
      "source": [
        "# Transpose Matrix\n",
        "matrix8=np.random.randint(1,100,size=(3,4))\n",
        "print(matrix8)"
      ],
      "metadata": {
        "colab": {
          "base_uri": "https://localhost:8080/"
        },
        "id": "zgTkS7_DD6rx",
        "outputId": "d623e0f2-0a5c-4c8f-fd37-5ba1fe2a7332"
      },
      "execution_count": 16,
      "outputs": [
        {
          "output_type": "stream",
          "name": "stdout",
          "text": [
            "[[30 28 75 89]\n",
            " [63 40  2 27]\n",
            " [18 77 46 25]]\n"
          ]
        }
      ]
    },
    {
      "cell_type": "code",
      "source": [
        "transpose=np.transpose(matrix8)\n",
        "print(transpose)"
      ],
      "metadata": {
        "colab": {
          "base_uri": "https://localhost:8080/"
        },
        "id": "O5EFgExqEFdk",
        "outputId": "9840b2df-6198-4528-99f4-fdadd5f41db9"
      },
      "execution_count": 18,
      "outputs": [
        {
          "output_type": "stream",
          "name": "stdout",
          "text": [
            "[[30 63 18]\n",
            " [28 40 77]\n",
            " [75  2 46]\n",
            " [89 27 25]]\n"
          ]
        }
      ]
    },
    {
      "cell_type": "code",
      "source": [
        "# Matrix Addition\n",
        "a=np.random.randint(1,100,size=(3,4))\n",
        "b=np.random.randint(1,100,size=(3,4))\n",
        "print(a)\n",
        "print(b)"
      ],
      "metadata": {
        "colab": {
          "base_uri": "https://localhost:8080/"
        },
        "id": "WV836NDKEVNO",
        "outputId": "8beed520-d3b1-4974-e930-132220f6e9d6"
      },
      "execution_count": 20,
      "outputs": [
        {
          "output_type": "stream",
          "name": "stdout",
          "text": [
            "[[15 81 23 63]\n",
            " [39 99 34 57]\n",
            " [43 67 20 82]]\n",
            "[[33 17 71 15]\n",
            " [19 81 80 15]\n",
            " [73 80 42 93]]\n"
          ]
        }
      ]
    },
    {
      "cell_type": "code",
      "source": [
        "sum=a+b\n",
        "print(sum)"
      ],
      "metadata": {
        "colab": {
          "base_uri": "https://localhost:8080/"
        },
        "id": "muz6OiMjEfYw",
        "outputId": "fbb34440-1d16-4408-dd8c-c21751ec1c78"
      },
      "execution_count": 22,
      "outputs": [
        {
          "output_type": "stream",
          "name": "stdout",
          "text": [
            "[[ 48  98  94  78]\n",
            " [ 58 180 114  72]\n",
            " [116 147  62 175]]\n"
          ]
        }
      ]
    },
    {
      "cell_type": "code",
      "source": [
        "# Matrix Subtraction\n",
        "sub=a-b\n",
        "print(sub)"
      ],
      "metadata": {
        "colab": {
          "base_uri": "https://localhost:8080/"
        },
        "id": "F_XE6eyfEj3s",
        "outputId": "75e724d8-2a00-49ed-d6c8-b80b4d48b66c"
      },
      "execution_count": 25,
      "outputs": [
        {
          "output_type": "stream",
          "name": "stdout",
          "text": [
            "[[-18  64 -48  48]\n",
            " [ 20  18 -46  42]\n",
            " [-30 -13 -22 -11]]\n"
          ]
        }
      ]
    },
    {
      "cell_type": "code",
      "source": [
        "# Matrix Multiplication\n",
        "a=np.random.randint(1,100,size=(3,4))\n",
        "b=np.random.randint(1,100,size=(4,3))\n",
        "print(a)\n",
        "print(b)"
      ],
      "metadata": {
        "colab": {
          "base_uri": "https://localhost:8080/"
        },
        "id": "xAeXINS3Et8o",
        "outputId": "53f2b17d-360c-4fb2-c9af-a91c97804e59"
      },
      "execution_count": 41,
      "outputs": [
        {
          "output_type": "stream",
          "name": "stdout",
          "text": [
            "[[47 71 66 77]\n",
            " [62 15 24 78]\n",
            " [ 2 49 64 58]]\n",
            "[[18 12 86]\n",
            " [40  7 40]\n",
            " [28 90  9]\n",
            " [32 69 38]]\n"
          ]
        }
      ]
    },
    {
      "cell_type": "code",
      "source": [
        "print(np.dot(a,b))"
      ],
      "metadata": {
        "colab": {
          "base_uri": "https://localhost:8080/"
        },
        "id": "Hbdi5VBiFzaP",
        "outputId": "8542af61-a95d-4bb4-ed26-957089ab13b3"
      },
      "execution_count": 42,
      "outputs": [
        {
          "output_type": "stream",
          "name": "stdout",
          "text": [
            "[[ 7998 12314 10402]\n",
            " [ 4884  8391  9112]\n",
            " [ 5644 10129  4912]]\n"
          ]
        }
      ]
    },
    {
      "cell_type": "code",
      "source": [
        "# Scalar Multiplication\n",
        "mul2=5*a\n",
        "print(mul2)"
      ],
      "metadata": {
        "colab": {
          "base_uri": "https://localhost:8080/"
        },
        "id": "g_Ovl8IVE4dw",
        "outputId": "e0b21caa-9f27-483c-80e2-481579a74a18"
      },
      "execution_count": 43,
      "outputs": [
        {
          "output_type": "stream",
          "name": "stdout",
          "text": [
            "[[235 355 330 385]\n",
            " [310  75 120 390]\n",
            " [ 10 245 320 290]]\n"
          ]
        }
      ]
    },
    {
      "cell_type": "code",
      "source": [
        "# Element wise Matrix Manupulation\n",
        "c=np.random.randint(1,100,size=(3,4))\n",
        "d=np.random.randint(1,100,size=(3,4))\n",
        "print(c)\n",
        "print(d)"
      ],
      "metadata": {
        "colab": {
          "base_uri": "https://localhost:8080/"
        },
        "id": "Mwquks-eFCGv",
        "outputId": "e68fc566-035e-4f9c-b2c3-e113b6823cb3"
      },
      "execution_count": 31,
      "outputs": [
        {
          "output_type": "stream",
          "name": "stdout",
          "text": [
            "[[54 23 15 92]\n",
            " [ 2 42 64 78]\n",
            " [36 12 47 97]]\n",
            "[[ 3 79 78  1]\n",
            " [67 86 74 96]\n",
            " [55 97  1 45]]\n"
          ]
        }
      ]
    },
    {
      "cell_type": "code",
      "source": [
        "print(np.add(c,d))"
      ],
      "metadata": {
        "colab": {
          "base_uri": "https://localhost:8080/"
        },
        "id": "mbXOwf5cFdwV",
        "outputId": "c8a18179-539c-4c5c-c583-d8e7f0b04968"
      },
      "execution_count": 33,
      "outputs": [
        {
          "output_type": "stream",
          "name": "stdout",
          "text": [
            "[[ 57 102  93  93]\n",
            " [ 69 128 138 174]\n",
            " [ 91 109  48 142]]\n"
          ]
        }
      ]
    },
    {
      "cell_type": "code",
      "source": [
        "print(np.subtract(c,d))"
      ],
      "metadata": {
        "colab": {
          "base_uri": "https://localhost:8080/"
        },
        "id": "Pl3QAzFiFhTI",
        "outputId": "b19de8eb-9c33-4661-ecf9-4050c8370373"
      },
      "execution_count": 36,
      "outputs": [
        {
          "output_type": "stream",
          "name": "stdout",
          "text": [
            "[[ 51 -56 -63  91]\n",
            " [-65 -44 -10 -18]\n",
            " [-19 -85  46  52]]\n"
          ]
        }
      ]
    },
    {
      "cell_type": "code",
      "source": [
        "print(np.multiply(c,d))"
      ],
      "metadata": {
        "colab": {
          "base_uri": "https://localhost:8080/"
        },
        "id": "MtWeHGX9FqQR",
        "outputId": "7735c584-cc14-42e6-d1c4-1e01cc42cee1"
      },
      "execution_count": 45,
      "outputs": [
        {
          "output_type": "stream",
          "name": "stdout",
          "text": [
            "[[ 162 1817 1170   92]\n",
            " [ 134 3612 4736 7488]\n",
            " [1980 1164   47 4365]]\n"
          ]
        }
      ]
    },
    {
      "cell_type": "code",
      "source": [
        "print(c*d)"
      ],
      "metadata": {
        "colab": {
          "base_uri": "https://localhost:8080/"
        },
        "id": "isesd-1rHmIO",
        "outputId": "204c300d-333f-4336-dabf-bba8bdf4e255"
      },
      "execution_count": 47,
      "outputs": [
        {
          "output_type": "stream",
          "name": "stdout",
          "text": [
            "[[ 162 1817 1170   92]\n",
            " [ 134 3612 4736 7488]\n",
            " [1980 1164   47 4365]]\n"
          ]
        }
      ]
    }
  ]
}